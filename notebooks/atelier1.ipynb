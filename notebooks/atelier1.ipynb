{
 "cells": [
  {
   "cell_type": "markdown",
   "metadata": {},
   "source": [
    "<h1>Partie 1 </h1>\n",
    "<h5>Ex1 </h5>"
   ]
  },
  {
   "cell_type": "code",
   "execution_count": 1,
   "metadata": {},
   "outputs": [
    {
     "name": "stdout",
     "output_type": "stream",
     "text": [
      "Mon âge est:  25\n"
     ]
    }
   ],
   "source": [
    "age = 25\n",
    "print(\"Mon âge est: \",age)"
   ]
  },
  {
   "cell_type": "markdown",
   "metadata": {},
   "source": [
    "<h5>Ex2 </h5>"
   ]
  },
  {
   "cell_type": "code",
   "execution_count": 3,
   "metadata": {},
   "outputs": [
    {
     "name": "stdout",
     "output_type": "stream",
     "text": [
      "La somme de  10.0  et  20.0  est : 30.0\n"
     ]
    }
   ],
   "source": [
    "# Demander à l'utilisateur de saisir deux nombres\n",
    "a = float(input(\"Entrez le premier nombre : \"))\n",
    "b = float(input(\"Entrez le deuxième nombre : \"))\n",
    "# Calculer la somme des deux nombres\n",
    "somme = a + b\n",
    "# Afficher le résultat\n",
    "print(\"La somme de \",a,\" et \",b,\" est :\", somme)"
   ]
  },
  {
   "cell_type": "markdown",
   "metadata": {},
   "source": [
    "<h5>Ex3 </h5>"
   ]
  },
  {
   "cell_type": "code",
   "execution_count": 4,
   "metadata": {},
   "outputs": [
    {
     "name": "stdout",
     "output_type": "stream",
     "text": [
      "Le produit est : 80.0\n"
     ]
    }
   ],
   "source": [
    "# Demander à l'utilisateur de saisir trois nombres\n",
    "nombre1 = float(input(\"Entrez le premier nombre : \"))\n",
    "nombre2 = float(input(\"Entrez le deuxième nombre : \"))\n",
    "nombre3 = float(input(\"Entrez le troisième nombre : \"))\n",
    "# Calculer le produit des trois nombres\n",
    "produit = nombre1 * nombre2 * nombre3\n",
    "# Afficher le résultat\n",
    "print(\"Le produit est :\", produit)"
   ]
  },
  {
   "cell_type": "markdown",
   "metadata": {},
   "source": [
    "<h5>Ex4</h5>"
   ]
  },
  {
   "cell_type": "code",
   "execution_count": 5,
   "metadata": {},
   "outputs": [
    {
     "name": "stdout",
     "output_type": "stream",
     "text": [
      "le premier nombre:  10 \n",
      "le deuxième nombre:  4\n"
     ]
    }
   ],
   "source": [
    "x= int(input(\"Entrez le premier nombre : \"))\n",
    "y= int(input(\"Entrez le deuxième nombre : \"))\n",
    "print(\"le premier nombre: \",x,\"\\nle deuxième nombre: \",y)"
   ]
  },
  {
   "cell_type": "markdown",
   "metadata": {},
   "source": [
    "<h5>Ex5</h5>"
   ]
  },
  {
   "cell_type": "code",
   "execution_count": 6,
   "metadata": {},
   "outputs": [
    {
     "name": "stdout",
     "output_type": "stream",
     "text": [
      "La concaténation des deux chaînes est : bonjour 10\n"
     ]
    }
   ],
   "source": [
    "chaine1 = input(\"Entrez la première chaîne : \")\n",
    "chaine2 = input(\"Entrez la deuxième chaîne : \")\n",
    "print(\"La concaténation des deux chaînes est :\",chaine1 + chaine2)\n"
   ]
  },
  {
   "cell_type": "markdown",
   "metadata": {},
   "source": [
    "<h5>Ex6</h5>"
   ]
  },
  {
   "cell_type": "code",
   "execution_count": 7,
   "metadata": {},
   "outputs": [
    {
     "name": "stdout",
     "output_type": "stream",
     "text": [
      "Le nombre flottant converti en entier est : 20\n"
     ]
    }
   ],
   "source": [
    "# Demander à l'utilisateur de saisir un nombre flottant\n",
    "nombre_flottant = float(input(\"Entrez un nombre flottant : \"))\n",
    "# Afficher le résultat\n",
    "print(\"Le nombre flottant converti en entier est :\", int(nombre_flottant))\n"
   ]
  },
  {
   "cell_type": "markdown",
   "metadata": {},
   "source": [
    "<h5>Ex7</h5>"
   ]
  },
  {
   "cell_type": "code",
   "execution_count": 8,
   "metadata": {},
   "outputs": [
    {
     "name": "stdout",
     "output_type": "stream",
     "text": [
      "Le nombre de caractères dans la chaîne est : 4\n"
     ]
    }
   ],
   "source": [
    "chaine = input(\"Entrez une chaîne de caractères : \")\n",
    "# nombre_caracteres = len(chaine)\n",
    "print(\"Le nombre de caractères dans la chaîne est :\", len(chaine))   \n"
   ]
  },
  {
   "cell_type": "markdown",
   "metadata": {},
   "source": [
    "<h5>Ex8</h5>"
   ]
  },
  {
   "cell_type": "code",
   "execution_count": 9,
   "metadata": {},
   "outputs": [
    {
     "name": "stdout",
     "output_type": "stream",
     "text": [
      "La somme des nombres est : 45\n"
     ]
    }
   ],
   "source": [
    "liste_nombres = input(\"Entrez une liste de nombres séparés par des espaces : \").split()\n",
    "liste_nombres = [int(nombre) for nombre in liste_nombres]\n",
    "# somme = sum(liste_nombres)\n",
    "print(\"La somme des nombres est :\", sum(liste_nombres))\n"
   ]
  },
  {
   "cell_type": "markdown",
   "metadata": {},
   "source": [
    "<h1>Partie 2 </h1>\n",
    "<h5>Ex1 </h5>"
   ]
  },
  {
   "cell_type": "code",
   "execution_count": 10,
   "metadata": {},
   "outputs": [
    {
     "name": "stdout",
     "output_type": "stream",
     "text": [
      "Le nombre est positif.\n"
     ]
    }
   ],
   "source": [
    "nombre = float(input(\"Entrez un nombre: \"))\n",
    "if nombre >0:\n",
    "    print(\"Le nombre est positif.\")\n",
    "elif nombre == 0:\n",
    "    print(\"Le nombre est nul.\")\n",
    "else:\n",
    "    print(\"le nombre est négatif.\")"
   ]
  },
  {
   "cell_type": "markdown",
   "metadata": {},
   "source": [
    "<h5>Ex2"
   ]
  },
  {
   "cell_type": "code",
   "execution_count": 11,
   "metadata": {},
   "outputs": [
    {
     "name": "stdout",
     "output_type": "stream",
     "text": [
      "Le nombre est impair.\n"
     ]
    }
   ],
   "source": [
    "nombre = int(input(\"Entrez un nombre : \"))\n",
    "if nombre % 2 == 0:\n",
    "    print(\"Le nombre est pair.\")\n",
    "else:\n",
    "    print(\"Le nombre est impair.\")"
   ]
  },
  {
   "cell_type": "markdown",
   "metadata": {},
   "source": [
    "<h1>Partie 3\n",
    "<h5>Ex1"
   ]
  },
  {
   "cell_type": "code",
   "execution_count": 12,
   "metadata": {},
   "outputs": [
    {
     "name": "stdout",
     "output_type": "stream",
     "text": [
      "La moyenne de  10.0  et  2.0  est:  6.0\n"
     ]
    }
   ],
   "source": [
    "def calcul_moyenne(a,b):\n",
    "    return (a+b)/2\n",
    "a=float(input(\"Entrez un nombre : \"))\n",
    "b=float(input(\"Entrez un autre nombre : \"))\n",
    "print(\"La moyenne de \",a,\" et \",b,\" est: \", calcul_moyenne(a,b))"
   ]
  },
  {
   "cell_type": "markdown",
   "metadata": {},
   "source": [
    "<h5>Ex2"
   ]
  },
  {
   "cell_type": "code",
   "execution_count": 14,
   "metadata": {},
   "outputs": [
    {
     "name": "stdout",
     "output_type": "stream",
     "text": [
      "5.0\n",
      "Erreur : division par zéro.\n"
     ]
    }
   ],
   "source": [
    "def diviser(dividende, diviseur):\n",
    "    if diviseur != 0:\n",
    "        return dividende / diviseur\n",
    "    else:\n",
    "        return \"Erreur : division par zéro.\"\n",
    "print(diviser(10, 2))\n",
    "print(diviser(8, 0))"
   ]
  },
  {
   "cell_type": "markdown",
   "metadata": {},
   "source": [
    "<h1>Partie 4\n",
    "<h5>Ex1"
   ]
  },
  {
   "cell_type": "code",
   "execution_count": 16,
   "metadata": {},
   "outputs": [
    {
     "name": "stdout",
     "output_type": "stream",
     "text": [
      "Bonjour, Alice\n"
     ]
    }
   ],
   "source": [
    "nom = \"Alice\"\n",
    "print(\"Bonjour,\", nom)"
   ]
  },
  {
   "cell_type": "markdown",
   "metadata": {},
   "source": [
    "<h5>Ex2"
   ]
  },
  {
   "cell_type": "code",
   "execution_count": 17,
   "metadata": {},
   "outputs": [
    {
     "name": "stdout",
     "output_type": "stream",
     "text": [
      "x est maintenant : 10\n",
      "y est maintenant : 5\n"
     ]
    }
   ],
   "source": [
    "x = 5\n",
    "y = 10\n",
    "# Échange des valeurs des variables\n",
    "x, y = y, x\n",
    "print(\"x est maintenant :\", x)\n",
    "print(\"y est maintenant :\", y)"
   ]
  },
  {
   "cell_type": "markdown",
   "metadata": {},
   "source": [
    "<h1>Partie5\n",
    "<h5>Ex1"
   ]
  },
  {
   "cell_type": "code",
   "execution_count": 18,
   "metadata": {},
   "outputs": [
    {
     "name": "stdout",
     "output_type": "stream",
     "text": [
      "La somme est : 15.0\n"
     ]
    }
   ],
   "source": [
    "a = float(input(\"Entrez le premier nombre : \"))\n",
    "b = float(input(\"Entrez le deuxième nombre : \"))\n",
    "somme = a + b\n",
    "print(\"La somme est :\", somme)"
   ]
  },
  {
   "cell_type": "markdown",
   "metadata": {},
   "source": [
    "<h5>Ex2"
   ]
  },
  {
   "cell_type": "code",
   "execution_count": 19,
   "metadata": {},
   "outputs": [
    {
     "name": "stdout",
     "output_type": "stream",
     "text": [
      "Le nombre est pair.\n"
     ]
    }
   ],
   "source": [
    "nombre = int(input(\"Entrez un nombre : \"))\n",
    "if nombre % 2 == 0:\n",
    "    print(\"Le nombre est pair.\")\n",
    "else: print(\"Le nombre est impair.\")"
   ]
  },
  {
   "cell_type": "markdown",
   "metadata": {},
   "source": [
    "<h1>Partie 6\n",
    "<h5>Ex1"
   ]
  },
  {
   "cell_type": "code",
   "execution_count": 20,
   "metadata": {},
   "outputs": [
    {
     "name": "stdout",
     "output_type": "stream",
     "text": [
      "Le nombre en flottant est : 10.0\n"
     ]
    }
   ],
   "source": [
    "entier = int(input(\"Entrez un nombre entier : \"))\n",
    "flottant = float(entier)\n",
    "print(\"Le nombre en flottant est :\", flottant)"
   ]
  },
  {
   "cell_type": "markdown",
   "metadata": {},
   "source": [
    "<h5>Ex2"
   ]
  },
  {
   "cell_type": "code",
   "execution_count": 21,
   "metadata": {},
   "outputs": [
    {
     "name": "stdout",
     "output_type": "stream",
     "text": [
      "La liste convertie en chaîne est : 12345\n"
     ]
    }
   ],
   "source": [
    "liste_nombres = [1, 2, 3, 4, 5]\n",
    "chaine_nombres = ''.join(map(str, liste_nombres))\n",
    "print(\"La liste convertie en chaîne est :\", chaine_nombres)"
   ]
  },
  {
   "cell_type": "markdown",
   "metadata": {},
   "source": [
    "<h1>Partie 7\n",
    "<h5>Ex1"
   ]
  },
  {
   "cell_type": "code",
   "execution_count": 22,
   "metadata": {},
   "outputs": [
    {
     "name": "stdout",
     "output_type": "stream",
     "text": [
      "La longueur du sépale est:  5.1\n"
     ]
    }
   ],
   "source": [
    "longueur_sépale = 5.1\n",
    "print(\"La longueur du sépale est: \",longueur_sépale)"
   ]
  },
  {
   "cell_type": "markdown",
   "metadata": {},
   "source": [
    "<h5>Ex2"
   ]
  },
  {
   "cell_type": "code",
   "execution_count": 23,
   "metadata": {},
   "outputs": [
    {
     "name": "stdout",
     "output_type": "stream",
     "text": [
      "Longueurs des sépales : [5.1, 4.9, 4.7, 4.6, 5.0]\n"
     ]
    }
   ],
   "source": [
    "longueurs_sépales = [5.1, 4.9, 4.7, 4.6, 5.0]\n",
    "print(\"Longueurs des sépales :\", longueurs_sépales)"
   ]
  },
  {
   "cell_type": "markdown",
   "metadata": {},
   "source": [
    "<h5>Ex3"
   ]
  },
  {
   "cell_type": "code",
   "execution_count": 30,
   "metadata": {},
   "outputs": [
    {
     "name": "stdout",
     "output_type": "stream",
     "text": [
      "   Longueur_Sépale\n",
      "0              5.1\n",
      "1              4.9\n",
      "2              4.7\n",
      "3              4.6\n",
      "4              5.0\n"
     ]
    }
   ],
   "source": [
    "import pandas as pd\n",
    "longueurs_sépales = [5.1, 4.9, 4.7, 4.6, 5.0]\n",
    "df = pd.DataFrame(longueurs_sépales,columns=[\"Longueur_Sépale\"])\n",
    "# print(df.head)\n",
    "print(df)"
   ]
  },
  {
   "cell_type": "markdown",
   "metadata": {},
   "source": [
    "<h1>Partie 8\n",
    "<h5>Ex1"
   ]
  },
  {
   "cell_type": "code",
   "execution_count": 31,
   "metadata": {},
   "outputs": [
    {
     "name": "stdout",
     "output_type": "stream",
     "text": [
      "Le sépale est long.\n"
     ]
    }
   ],
   "source": [
    "longueur_sépale = 5.1\n",
    "if longueur_sépale > 5:\n",
    "    print(\"Le sépale est long.\")\n",
    "else:\n",
    "    print(\"Le sépale est court.\")"
   ]
  },
  {
   "cell_type": "markdown",
   "metadata": {},
   "source": [
    "<h5>Ex2"
   ]
  },
  {
   "cell_type": "code",
   "execution_count": 40,
   "metadata": {},
   "outputs": [
    {
     "name": "stdout",
     "output_type": "stream",
     "text": [
      "     sepal length (cm)  sepal width (cm)  petal length (cm)  petal width (cm)\n",
      "0                  5.1               3.5                1.4               0.2\n",
      "5                  5.4               3.9                1.7               0.4\n",
      "10                 5.4               3.7                1.5               0.2\n",
      "14                 5.8               4.0                1.2               0.2\n",
      "15                 5.7               4.4                1.5               0.4\n",
      "..                 ...               ...                ...               ...\n",
      "145                6.7               3.0                5.2               2.3\n",
      "146                6.3               2.5                5.0               1.9\n",
      "147                6.5               3.0                5.2               2.0\n",
      "148                6.2               3.4                5.4               2.3\n",
      "149                5.9               3.0                5.1               1.8\n",
      "\n",
      "[118 rows x 4 columns]\n"
     ]
    }
   ],
   "source": [
    "from sklearn.datasets import load_iris\n",
    "iris = load_iris()\n",
    "# print(iris)\n",
    "df = pd.DataFrame(iris.data,columns=iris.feature_names)\n",
    "print(df[df[\"sepal length (cm)\"]>5])"
   ]
  },
  {
   "cell_type": "markdown",
   "metadata": {},
   "source": [
    "<h1>Partie 9\n",
    "<h5>Ex1"
   ]
  },
  {
   "cell_type": "code",
   "execution_count": 42,
   "metadata": {},
   "outputs": [
    {
     "data": {
      "image/png": "[encoded data removed]",
      "text/plain": [
       "<Figure size 640x480 with 1 Axes>"
      ]
     },
     "metadata": {},
     "output_type": "display_data"
    }
   ],
   "source": [
    "import matplotlib.pyplot as plt\n",
    "from sklearn.datasets import load_iris\n",
    "iris = load_iris()\n",
    "df = pd.DataFrame(iris.data,columns=iris.feature_names)\n",
    "plt.scatter(df[\"petal length (cm)\"],df[\"sepal width (cm)\"])\n",
    "plt.xlabel(\"Longueur des sépales\")\n",
    "plt.ylabel(\"Largeur des sépales\")\n",
    "plt.title(\"Relation entre longueur et largeur des sépales\")\n",
    "plt.show()"
   ]
  },
  {
   "cell_type": "markdown",
   "metadata": {},
   "source": [
    "<h5>Ex2"
   ]
  },
  {
   "cell_type": "code",
   "execution_count": 44,
   "metadata": {},
   "outputs": [
    {
     "data": {
      "image/png": "[encoded data removed]",
      "text/plain": [
       "<Figure size 640x480 with 1 Axes>"
      ]
     },
     "metadata": {},
     "output_type": "display_data"
    }
   ],
   "source": [
    "import matplotlib.pyplot as plt\n",
    "from sklearn.datasets import load_iris\n",
    "iris = load_iris()\n",
    "df = pd.DataFrame(iris.data,columns=iris.feature_names)\n",
    "plt.scatter(df[\"sepal length (cm)\"], df[\"sepal width (cm)\"], c=iris.target, cmap='viridis')\n",
    "plt.xlabel(\"Longueur des sépales\")\n",
    "plt.ylabel(\"Largeur des sépales\")\n",
    "plt.title(\"Séparation des espèces dans Iris\")\n",
    "plt.show()"
   ]
  },
  {
   "cell_type": "markdown",
   "metadata": {},
   "source": [
    "<h1>Partie 10\n",
    "<h5>Ex1"
   ]
  },
  {
   "cell_type": "code",
   "execution_count": 49,
   "metadata": {},
   "outputs": [
    {
     "name": "stdout",
     "output_type": "stream",
     "text": [
      "Moyenne des longueurs:  4.859999999999999\n"
     ]
    }
   ],
   "source": [
    "longueurs_sépales = [5.1, 4.9, 4.7, 4.6, 5.0]\n",
    "def calcul_moyenne(liste: list[float]) -> float:\n",
    "    return sum(liste)/len(liste)\n",
    "print(\"Moyenne des longueurs: \",calcul_moyenne(longueurs_sépales))"
   ]
  },
  {
   "cell_type": "markdown",
   "metadata": {},
   "source": [
    "<h5>Ex2"
   ]
  },
  {
   "cell_type": "code",
   "execution_count": 50,
   "metadata": {},
   "outputs": [
    {
     "name": "stdout",
     "output_type": "stream",
     "text": [
      "Longueurs standarisées:  [1.293993278441262, 0.2156655464068818, -0.8626621856275033, -1.401826051644698, 0.754829412424072]\n"
     ]
    }
   ],
   "source": [
    "longueurs_sépales = [5.1, 4.9, 4.7, 4.6, 5.0]\n",
    "def standardiser(valeurs: list[float]) -> float:\n",
    "    moyenne = sum(valeurs)/len(valeurs)\n",
    "    ecart_type = (sum([(x-moyenne)**2 for x in valeurs])/len(valeurs))**0.5\n",
    "    return [(x-moyenne)/ecart_type for x in valeurs]\n",
    "print(\"Longueurs standarisées: \",standardiser(longueurs_sépales))"
   ]
  },
  {
   "cell_type": "markdown",
   "metadata": {},
   "source": [
    "<h1>Partie 11\n",
    "<h5>Ex1"
   ]
  },
  {
   "cell_type": "code",
   "execution_count": 52,
   "metadata": {},
   "outputs": [
    {
     "name": "stdout",
     "output_type": "stream",
     "text": [
      "Precision:  1.0\n"
     ]
    }
   ],
   "source": [
    "from sklearn.datasets import load_iris\n",
    "from sklearn.model_selection import train_test_split\n",
    "from sklearn.linear_model import LogisticRegression\n",
    "iris = load_iris()\n",
    "X_train,X_test,y_train,y_test = train_test_split(iris.data,iris.target,test_size=0.2,random_state=42)\n",
    "model = LogisticRegression(max_iter=200)\n",
    "model.fit(X_train,y_train)\n",
    "print(\"Precision: \",model.score(X_test,y_test))"
   ]
  }
 ],
 "metadata": {
  "kernelspec": {
   "display_name": "venv",
   "language": "python",
   "name": "python3"
  },
  "language_info": {
   "codemirror_mode": {
    "name": "ipython",
    "version": 3
   },
   "file_extension": ".py",
   "mimetype": "text/x-python",
   "name": "python",
   "nbconvert_exporter": "python",
   "pygments_lexer": "ipython3",
   "version": "3.10.11"
  },
  "orig_nbformat": 4
 },
 "nbformat": 4,
 "nbformat_minor": 2
}
